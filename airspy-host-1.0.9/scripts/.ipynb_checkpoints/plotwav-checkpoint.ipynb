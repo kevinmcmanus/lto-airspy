{
 "cells": [
  {
   "cell_type": "code",
   "execution_count": 2,
   "metadata": {},
   "outputs": [],
   "source": [
    "import numpy as np\n",
    "import matplotlib.pyplot as plt \n",
    "import scipy.io.wavfile as wv\n",
    "import os"
   ]
  },
  {
   "cell_type": "code",
   "execution_count": 5,
   "metadata": {},
   "outputs": [
    {
     "output_type": "stream",
     "name": "stdout",
     "text": [
      "hello\n"
     ]
    }
   ],
   "source": [
    "print('hello')"
   ]
  },
  {
   "cell_type": "code",
   "execution_count": null,
   "metadata": {},
   "outputs": [],
   "source": [
    "os.listdir('data.test')"
   ]
  },
  {
   "cell_type": "code",
   "execution_count": 3,
   "metadata": {},
   "outputs": [],
   "source": [
    "def get_pwr_from_wv(wvpath):\n",
    "    rate, obs = wv.read(wvpath)\n",
    "    obs_f = obs.astype(float)\n",
    "    s = np.sqrt(obs_f)"
   ]
  },
  {
   "cell_type": "code",
   "execution_count": 4,
   "metadata": {},
   "outputs": [],
   "source": [
    "def get_wav_stats(wvpath, resolution = 0.001):\n",
    "    \"\"\"\n",
    "    resolution in milliseconds\n",
    "    \"\"\"\n",
    "    with open(wvpath, 'rb') as wav:\n",
    "        rate, obs = wv.read(wav, mmap=True)\n",
    "        framesize = int(rate*resolution)\n",
    "        nframes = obs.shape[0] // framesize\n",
    "        \n",
    "        nobs = framesize*nframes\n",
    "        pwr = np.sqrt(np.square(obs.astype(float)).sum(axis=1))[:nobs].reshape((nframes, framesize))\n",
    "        \n",
    "        #time midpoint for each frame\n",
    "        t_sec = np.arange(nframes)*resolution + resolution/2\n",
    "        \n",
    "        ret_dict = {\"t_sec\":    t_sec,\n",
    "                    \"pwr_min\":  pwr.min(axis=1),\n",
    "                    \"pwr_mean\": pwr.mean(axis=1),\n",
    "                    \"pwr_max\":  pwr.max(axis=1)\n",
    "                   }\n",
    "        \n",
    "    return ret_dict    "
   ]
  },
  {
   "cell_type": "code",
   "execution_count": null,
   "metadata": {},
   "outputs": [],
   "source": [
    "wvpath = 'data.test/longsample.wav'\n",
    "stats = get_wav_stats(wvpath)"
   ]
  },
  {
   "cell_type": "code",
   "execution_count": null,
   "metadata": {},
   "outputs": [],
   "source": [
    "s=slice(1, None, None)\n",
    "\n",
    "fig = plt.figure(figsize=(12,9))\n",
    "ax = fig.subplots(1,1)\n",
    "ax.plot(stats['t_sec'][s], stats['pwr_min'][s], color='blue', label='Min')\n",
    "ax.plot(stats['t_sec'][s], stats['pwr_mean'][s], color='red', label='Mean')\n",
    "ax.plot(stats['t_sec'][s], stats['pwr_max'][s], color='green', label='Max')\n",
    "ax.set_ylabel(r'$(I^2\\ +\\ Q^2)^\\frac{1}{2}$', size=16)\n",
    "ax.set_xlabel('Time (Seconds)')\n",
    "ax.grid()\n",
    "ax.legend()"
   ]
  },
  {
   "cell_type": "code",
   "execution_count": null,
   "metadata": {},
   "outputs": [],
   "source": [
    "#wvpath = 'AirSpy_20201229_185852Z_1420405kHz_IQ.wav'\n",
    "wvdir = 'data.test'\n",
    "old_stats = {}\n",
    "for f in os.listdir(wvdir):\n",
    "    wvpath = os.path.join(wvdir, f)\n",
    "    bn = os.path.basename(f)\n",
    "    old_stats[f] = get_wav_stats(wvpath)"
   ]
  },
  {
   "cell_type": "code",
   "execution_count": null,
   "metadata": {},
   "outputs": [],
   "source": [
    "s=slice(None, None, None)\n",
    "\n",
    "fig = plt.figure(figsize=(12,9))\n",
    "ax = fig.subplots(1,1)\n",
    "\n",
    "test_list = list(old_stats.keys())\n",
    "test_list.sort(reverse=False)\n",
    "\n",
    "for t in test_list:\n",
    "    if t == 'longsample.wav':\n",
    "        continue\n",
    "    ax.plot(old_stats[t]['t_sec'][s], old_stats[t]['pwr_mean'][s],  label=t)\n",
    "    \n",
    "ax.set_ylabel(r'$Power\\ =\\ (I^2\\ +\\ Q^2)^\\frac{1}{2}$', size=16)\n",
    "ax.set_title('Received Power v. Time, Resolution = 0.001 Second')\n",
    "ax.set_xlabel('Time (Seconds)')\n",
    "ax.grid()\n",
    "ax.legend()"
   ]
  },
  {
   "cell_type": "code",
   "execution_count": null,
   "metadata": {},
   "outputs": [],
   "source": [
    "obs.shape"
   ]
  },
  {
   "cell_type": "code",
   "execution_count": null,
   "metadata": {},
   "outputs": [],
   "source": [
    "wvdir = 'data.test'\n",
    "for f in ['test1.wav']:\n",
    "    wvpath = os.path.join(wvdir, f)\n",
    "    print(f'\\n----------- file: {f}')\n",
    "    with open(wvpath, 'rb') as wav:\n",
    "        rate, obs = wv.read(wav, mmap=True)\n",
    "        print( obs[:10])"
   ]
  },
  {
   "cell_type": "code",
   "execution_count": null,
   "metadata": {},
   "outputs": [],
   "source": [
    "obs.dtype"
   ]
  },
  {
   "cell_type": "code",
   "execution_count": null,
   "metadata": {},
   "outputs": [],
   "source": [
    "wvdir = 'data.test'\n",
    "for f in os.listdir(wvdir):\n",
    "    wvpath = os.path.join(wvdir, f)\n",
    "    print(f'\\n----------- file: {f}')\n",
    "    rate, obs = wv.read(wvpath, mmap=True)\n",
    "    print( obs[:10])"
   ]
  },
  {
   "cell_type": "code",
   "execution_count": null,
   "metadata": {},
   "outputs": [],
   "source": [
    "f'{value:}"
   ]
  },
  {
   "cell_type": "code",
   "execution_count": null,
   "metadata": {},
   "outputs": [],
   "source": [
    "fig = plt.figure(figsize=(12,9))\n",
    "ax = fig.subplots(1,1)\n",
    "ax.plot(s, color='blue')"
   ]
  },
  {
   "cell_type": "code",
   "execution_count": null,
   "metadata": {},
   "outputs": [],
   "source": [
    "plt.plot(s[10:1000])"
   ]
  },
  {
   "cell_type": "code",
   "execution_count": null,
   "metadata": {},
   "outputs": [],
   "source": [
    "s[:10]"
   ]
  },
  {
   "cell_type": "code",
   "execution_count": null,
   "metadata": {},
   "outputs": [],
   "source": []
  }
 ],
 "metadata": {
  "kernelspec": {
   "display_name": "Python 3",
   "language": "python",
   "name": "python3"
  },
  "language_info": {
   "codemirror_mode": {
    "name": "ipython",
    "version": 3
   },
   "file_extension": ".py",
   "mimetype": "text/x-python",
   "name": "python",
   "nbconvert_exporter": "python",
   "pygments_lexer": "ipython3",
   "version": "3.8.5-final"
  }
 },
 "nbformat": 4,
 "nbformat_minor": 4
}